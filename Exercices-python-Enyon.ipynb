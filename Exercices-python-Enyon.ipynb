{
 "cells": [
  {
   "cell_type": "markdown",
   "metadata": {},
   "source": [
    "# Exercices Python\n"
   ]
  },
  {
   "cell_type": "code",
   "execution_count": 1,
   "metadata": {},
   "outputs": [],
   "source": [
    "# Exercice1: Les impairs\n",
    "\n",
    "def impairs(a,b):\n",
    "    list_impairs = []\n",
    "    for i in range(a+1, b):\n",
    "        if i%2!=0:\n",
    "            list_impairs.append(i)\n",
    "    return list_impairs"
   ]
  },
  {
   "cell_type": "code",
   "execution_count": 2,
   "metadata": {
    "pycharm": {
     "is_executing": true
    }
   },
   "outputs": [
    {
     "data": {
      "text/plain": [
       "[19, 21, 23, 25, 27]"
      ]
     },
     "execution_count": 2,
     "metadata": {},
     "output_type": "execute_result"
    }
   ],
   "source": [
    "impairs(17,29)"
   ]
  },
  {
   "cell_type": "markdown",
   "metadata": {},
   "source": []
  },
  {
   "cell_type": "code",
   "execution_count": null,
   "metadata": {},
   "outputs": [
    {
     "name": "stdout",
     "output_type": "stream",
     "text": [
      "\t\t\t\t=== LE JEU DU PLUS OU MOINS ===\n",
      "\n",
      "\n"
     ]
    }
   ],
   "source": [
    "# Exrecice2: le jeu de plus ou de moins\n",
    "import random\n",
    "import os\n",
    "\n",
    "def jeu_plus_ou_moins():\n",
    "     #on crée une variable choisie initialisée à 0 et le nombre de tentatives essayées \n",
    "     nb_tentatives = 0\n",
    "     choix = 0\n",
    "     #on crée une variable aleatoire entre min et max\n",
    "     mystere = random.randint(1,100)\n",
    "     #programme du jeu\n",
    "     print(\"\\t\\t\\t\\t=== LE JEU DU PLUS OU MOINS ===\\n\\n\")\n",
    "\n",
    "     while choix != mystere:\n",
    "          choix = int(input(\"Saisissez un nombre entre 1 et 100\"))\n",
    "          if(choix > 100 or choix < 1):\n",
    "               print(f\"La valeur choisie doit être comprise entre 1 et 100\")\n",
    "               continue\n",
    "          elif choix > mystere:\n",
    "               print(f\"La valeur {choix} est plus grand que le nombre mystère\")\n",
    "               continue\n",
    "          elif choix < mystere:\n",
    "               print(f\"La valeur {choix} est plus petit que le nombre mystère\")\n",
    "               continue\n",
    "\n",
    "          # c'est l'hypothèse ou choix == mystere\n",
    "          else: \n",
    "               nb_tentatives+= nb_tentatives\n",
    "               print(f\"Bravo !, vous avez trouvé le nombre mystère en {nb_tentatives} de fois !\")\n",
    "               break\n",
    "          \n",
    "     # On met le syteème en pause  \n",
    "     os.system(\"Pause\")\n",
    "\n",
    "jeu_plus_ou_moins()"
   ]
  },
  {
   "cell_type": "code",
   "execution_count": 1,
   "metadata": {},
   "outputs": [],
   "source": [
    "# Exercice3: Les plus grands nombres\n",
    "import random\n",
    "\n",
    "def plus_grand_nombre(n,p):\n",
    "    liste = [random.randint(0,n) for i in range(p)]\n",
    "    return liste\n"
   ]
  },
  {
   "cell_type": "code",
   "execution_count": 2,
   "metadata": {},
   "outputs": [
    {
     "data": {
      "text/plain": [
       "[57, 87, 25, 0, 23, 8, 72, 8, 74, 35]"
      ]
     },
     "execution_count": 2,
     "metadata": {},
     "output_type": "execute_result"
    }
   ],
   "source": [
    "plus_grand_nombre(100,10)"
   ]
  },
  {
   "cell_type": "code",
   "execution_count": 3,
   "metadata": {},
   "outputs": [],
   "source": [
    "#Exo4: les algorithmes de tri \n",
    "    #Algo1: par insertion\n",
    "\n",
    "def tri(L):\n",
    "    N = len(L)\n",
    "    for n in range(1,N):\n",
    "        cle = L[n]\n",
    "        j = n-1\n",
    "        while j>=0 and L[j] > cle:\n",
    "            L[j+1] = L[j] #decalage\n",
    "            j = j-1\n",
    "        L[j+1] = cle    \n"
   ]
  },
  {
   "cell_type": "code",
   "execution_count": 4,
   "metadata": {},
   "outputs": [
    {
     "name": "stdout",
     "output_type": "stream",
     "text": [
      "[1, 6, 8, 9, 11, 11, 14, 17, 17, 19]\n"
     ]
    }
   ],
   "source": [
    "import random\n",
    "listes = []\n",
    "for k in range (10):\n",
    "    listes.append(random.randint(0, 20))\n",
    "tri(listes)\n",
    "print(listes)"
   ]
  },
  {
   "cell_type": "code",
   "execution_count": 5,
   "metadata": {},
   "outputs": [
    {
     "data": {
      "text/plain": [
       "[1, 6, 7, 10, 11, 22, 32, 99]"
      ]
     },
     "execution_count": 5,
     "metadata": {},
     "output_type": "execute_result"
    }
   ],
   "source": [
    "#Algo2: par la methode sort()\n",
    "l = [32, 6, 22, 11, 1, 7, 99,10]\n",
    "l.sort()\n",
    "l"
   ]
  },
  {
   "cell_type": "code",
   "execution_count": 6,
   "metadata": {},
   "outputs": [
    {
     "data": {
      "text/plain": [
       "[1, 6, 7, 10, 11, 22, 32, 99]"
      ]
     },
     "execution_count": 6,
     "metadata": {},
     "output_type": "execute_result"
    }
   ],
   "source": [
    "#Algo3: par la methode sorted()\n",
    "sorted([32, 6, 22, 11, 1, 7, 99,10])"
   ]
  },
  {
   "cell_type": "code",
   "execution_count": 7,
   "metadata": {},
   "outputs": [],
   "source": [
    "#Exo5: des conversions\n",
    "    #conversions de temps \n",
    "def convert_secondes(num_secondes):\n",
    "   \n",
    "    annee = 0 \n",
    "    mois = 0\n",
    "    jour = 0\n",
    "    heure = 0\n",
    "    minute = 0\n",
    "    seconde = 0\n",
    "\n",
    "    if num_secondes <= 0:\n",
    "        print(\"Le nombre saisi doit être positif\")\n",
    "    elif num_secondes > 0:\n",
    "        res = 0\n",
    "        annee = num_secondes // 31536000\n",
    "        res = num_secondes % 31536000\n",
    "\n",
    "        if res != 0:\n",
    "            mois = res //2629800\n",
    "            res = res % 2629800\n",
    "    \n",
    "            if res != 0:\n",
    "                jour = res //86400\n",
    "                res = res % 86400\n",
    "                \n",
    "                if res != 0:\n",
    "                    heure = res // 3600\n",
    "                    res = res % 3600\n",
    "\n",
    "                    if res != 0:\n",
    "                        minute = res// 60\n",
    "                        res = res % 60\n",
    "\n",
    "                        if res != 0:\n",
    "                            seconde = res \n",
    "    return print(f\" {num_secondes} correspondent à:\\n {annee} année(s) {mois} mois {jour} jour(s) \\n {heure} heures {minute} minute(s) {seconde} seconde(s) \\n\")"
   ]
  },
  {
   "cell_type": "code",
   "execution_count": 8,
   "metadata": {},
   "outputs": [
    {
     "name": "stdout",
     "output_type": "stream",
     "text": [
      " 67500035 correspondent à:\n",
      " 2 année(s) 1 mois 20 jour(s) \n",
      " 19 heures 30 minute(s) 35 seconde(s) \n",
      "\n"
     ]
    }
   ],
   "source": [
    "convert_secondes(67500035)"
   ]
  },
  {
   "cell_type": "code",
   "execution_count": 9,
   "metadata": {},
   "outputs": [],
   "source": [
    "#conversions en metre par seconde et km/h"
   ]
  },
  {
   "cell_type": "code",
   "execution_count": 10,
   "metadata": {},
   "outputs": [],
   "source": [
    "# Exercice 6 : Trngele de Pascal\n",
    "def tr_pascal(m):\n",
    "   P = [[0]* (m+1) for k in range(m+1)]\n",
    "   for m in range(m+1):\n",
    "       if m == 0:\n",
    "           P[m][0] = 1 # la première ligne prendra la valeur de 1\n",
    "       else:\n",
    "           for k in range(m+1):\n",
    "                if k == 0:\n",
    "                    P[m][0] = 1\n",
    "                else:\n",
    "                    P[m][k] = P[m-1][k-1] + P[m-1][k]\n",
    "   return P"
   ]
  },
  {
   "cell_type": "code",
   "execution_count": 11,
   "metadata": {},
   "outputs": [
    {
     "data": {
      "text/plain": [
       "[[1, 0, 0, 0, 0, 0, 0, 0],\n",
       " [1, 1, 0, 0, 0, 0, 0, 0],\n",
       " [1, 2, 1, 0, 0, 0, 0, 0],\n",
       " [1, 3, 3, 1, 0, 0, 0, 0],\n",
       " [1, 4, 6, 4, 1, 0, 0, 0],\n",
       " [1, 5, 10, 10, 5, 1, 0, 0],\n",
       " [1, 6, 15, 20, 15, 6, 1, 0],\n",
       " [1, 7, 21, 35, 35, 21, 7, 1]]"
      ]
     },
     "execution_count": 11,
     "metadata": {},
     "output_type": "execute_result"
    }
   ],
   "source": [
    "tr_pascal(7)"
   ]
  },
  {
   "cell_type": "markdown",
   "metadata": {},
   "source": []
  },
  {
   "cell_type": "code",
   "execution_count": 12,
   "metadata": {},
   "outputs": [],
   "source": [
    "# Exercice 7 : manipulations de dictionnaires\n",
    "\n",
    "def echange_cle_valeurs(dico):\n",
    "    dico = { v : k for k,v in dico.items()}\n",
    "    print(dico)\n"
   ]
  },
  {
   "cell_type": "code",
   "execution_count": 13,
   "metadata": {},
   "outputs": [
    {
     "name": "stdout",
     "output_type": "stream",
     "text": [
      "{'Francais': 'Anglais', 'Distanciel': 'Presentiel', 'Failure': 'Success', 'Anglet': 'Toulouse'}\n"
     ]
    }
   ],
   "source": [
    "dico = {'Anglais':'Francais','Presentiel':'Distanciel','Success':'Failure','Toulouse':'Anglet'}\n",
    "echange_cle_valeurs(dico)"
   ]
  },
  {
   "cell_type": "code",
   "execution_count": 14,
   "metadata": {},
   "outputs": [],
   "source": [
    "# Exercice 8 : manipulations des fichiers textes\n",
    "def tables():\n",
    "    file = open('tables' ,'a')\n",
    "    for i in range(2, 31):\n",
    "        file.write(f\"Table de {i}:\\n\\n\")\n",
    "        for j in range(1, 21):\n",
    "            v = i * j\n",
    "            file.write(f\"{j} {i} = {v}\")\n",
    "            file.write(\"\\n\\n\")\n",
    "    file.close()\n",
    "        "
   ]
  },
  {
   "cell_type": "code",
   "execution_count": 15,
   "metadata": {},
   "outputs": [],
   "source": [
    "tables()"
   ]
  },
  {
   "cell_type": "code",
   "execution_count": 16,
   "metadata": {},
   "outputs": [],
   "source": [
    "# Exercice 9: quelques notes\n",
    "\n",
    "def quelques_notes():\n",
    "    import numpy as np\n",
    "    notes = []\n",
    "\n",
    "    while True: # on a une boucle infinie qui ne limite pas le nombre de notes\n",
    "        saisie = input(f\"\\n Entrez la note de l'elève: \\n\")\n",
    "        if saisie == '': # si la valeur saisie est nulle alors on sort de la boucle infinie\n",
    "            break\n",
    "        else:\n",
    "            try:\n",
    "                nouvelle_note = float(saisie)\n",
    "            except ValueError:\n",
    "                print('La valeur saisie doit être un nombre compris entre 0 et 20!')\n",
    "            else:\n",
    "                if nouvelle_note >= 0 and nouvelle_note <= 20:\n",
    "                    notes.append(float(nouvelle_note))\n",
    "                    print('\\n')\n",
    "                    nb_notes = np.size(notes)\n",
    "                    note_max = max(notes)\n",
    "                    note_min = min(notes)\n",
    "                    note_mean = np.mean(notes)\n",
    "                    print(f\"Nombre de note: {nb_notes}\\n Note maximale : {note_max}\\n Note minimale : {note_min}\\n Moyenne des note : {note_mean}\\n\")\n",
    "                    print(notes)\n",
    "                else:\n",
    "                    print('Entrez une note compris en 0 et 20!')"
   ]
  },
  {
   "cell_type": "code",
   "execution_count": null,
   "metadata": {},
   "outputs": [],
   "source": [
    "quelques_notes()"
   ]
  },
  {
   "cell_type": "code",
   "execution_count": null,
   "metadata": {},
   "outputs": [],
   "source": [
    "  # Exercice 9: quelques notes cas2\n",
    "\n",
    "def quelques_notes():\n",
    "      \n",
    "    import numpy as np \n",
    "    \n",
    "    dico_student = {}\n",
    "    note = []\n",
    "    nom = input(f\"\\n Entrez le nom de l'élève! Y/N\")\n",
    "    if nom == 'Y':\n",
    "          nom = input(f\"\\n Entrez le nom de l'élève!\")\n",
    "          dico_student[nom] = []\n",
    "          note = input(f\"\\n Entrez la note de l'élève !\")\n",
    "          while note != ' ':\n",
    "            if int(note) > 20 or int(note) < 0:\n",
    "              note = input(f\"\\n Entrez la note de l'élève !\")\n",
    "            else:\n",
    "              dico_student[nom].append(int(note))  \n",
    "              print(dico_student)\n",
    "                    \n",
    "    elif nom == 'N':   \n",
    "          nom = input(f\"\\n Entrez le nom de l'élève!\")\n",
    "          if nom in dico_student:\n",
    "            print(dico_student) \n",
    "            nb_notes = np.size(note)\n",
    "            note_max = max(note)\n",
    "            note_min = min(note)\n",
    "            note_moy = mean(note)\n",
    "            print(f\"Nombre de note: {nb_notes}\\n Note maximale : {note_max}\\n Note minimale : {note_min}\\n Moyenne des note : {note_moy}\\n Dictionnaire de note: {dico_student}\")\n",
    "\n",
    "        \n",
    "          else:\n",
    "            print(\"Le nom de l'élève n'exte pas dans le dictionnaire!\") \n",
    "            nom = input(f\"\\n Entrez le nom de l'élève!\")\n",
    "    else:\n",
    "      print(\"Saisissez Y OU N pour éxécuter le programme !\")\n",
    "    \n"
   ]
  },
  {
   "cell_type": "code",
   "execution_count": null,
   "metadata": {},
   "outputs": [
    {
     "name": "stdout",
     "output_type": "stream",
     "text": [
      "\n",
      " Entrez le nom de l'élève! Y/NY\n",
      "\n",
      " Entrez le nom de l'élève!ezc\n",
      "\n",
      " Entrez la note de l'élève !12\n"
     ]
    },
    {
     "name": "stderr",
     "output_type": "stream",
     "text": [
      "IOPub data rate exceeded.\n",
      "The notebook server will temporarily stop sending output\n",
      "to the client in order to avoid crashing it.\n",
      "To change this limit, set the config variable\n",
      "`--NotebookApp.iopub_data_rate_limit`.\n",
      "\n",
      "Current values:\n",
      "NotebookApp.iopub_data_rate_limit=1000000.0 (bytes/sec)\n",
      "NotebookApp.rate_limit_window=3.0 (secs)\n",
      "\n"
     ]
    }
   ],
   "source": [
    "quelques_notes()"
   ]
  },
  {
   "cell_type": "code",
   "execution_count": null,
   "metadata": {},
   "outputs": [],
   "source": [
    "# Exercice 10:une première base de données\n",
    "\n",
    "#création de la base de données des personnes ou individus: je vais procéder par les classes \n",
    "\n",
    "import json \n",
    "from pathlib import Path\n",
    "\n",
    "class person_database:\n",
    "    def __init__(self, nom, prenom, age, sexe, taille):\n",
    "        self.nom = nom\n",
    "        self.prenom = prenom\n",
    "        self.age = age\n",
    "        self.sexe = sexe\n",
    "        self.taille = taille\n",
    "\n",
    "# Fonction d'ajouter une personne à la base de données\n",
    "    def create_person(self,dico_pers):\n",
    "        dico_pers.update(dico_pers)\n",
    "\n",
    "\n",
    "# Fonction de recupération des informations de la personne par son nom\n",
    "    def find_person_by_name(self,file_json,name):\n",
    "        dic ={}\n",
    "        #dic_file = \n",
    "        return dico_pers.get(name)\n",
    "   \n",
    "\n",
    "# Fonction d'ajouter les elements de lignes dans un fichier en format Json\n",
    "    def save_in_jsonFile(dico_pers, file_json):\n",
    "        dico_temp = {}\n",
    "        if not file_json.exists: # si le fichier json n'existe pas , on le cré\n",
    "            file_json.touch()\n",
    "        with open(file_json, 'r') as f: # une fois crée on va l'ouvrir puis le mettre à jour avec les nouvelles données\n",
    "            dico_json = json.load(f)\n",
    "            dico_temp.update(dico_json) #1 on met à jour le dictionnaire temporaire avec le dictionnaire json crée\n",
    "        dico_temp.update(dico_pers)     #2 on met à jour le dictionnaire temporaire avec le dictionnaire person initial crée\n",
    "        with open(file_json, 'w') as f1:\n",
    "            json.dump(dico_temp, f1) # dump() permet d'importer un dictionnaire python en format Json\n",
    "\n",
    "\n",
    "# Consulter le dictionnaire en format Json\n",
    "\n",
    "def get_dico_from_json(file_json):\n",
    "    with open(file_json, 'r') as rd:\n",
    "        library = json.load(rd)\n",
    "    return library\n",
    "\n",
    "\n",
    "file_person = Path.cwd()/\"person_json\" #creation du fichier person_json\n",
    "a1 = person_database(\"Dupont\",\"Eric\", 48, \"M\", 2.08) #on crée une personne\n",
    "dico_person = {f\"{a1.nom}\": {\"prenom\": a1.prenom, \"age\": a1.age,\"sexe\": a1.sexe,\"taille\": a1.taille}}\n",
    "dico =  {}\n",
    "menu = ['1','2', '3']\n",
    "ok = True\n",
    "while ok :\n",
    "    question = input(f\"\\nVoulez-vous consulter le dictionnaire ou remplir le dictionnaire.\\n1: Remplissage\\n2: Consultation\\n 3: Sortir\\n\")\n",
    "    question = question.upper()\n",
    "    if question not in menu:\n",
    "        print(\" La saisie doit être 1 pour Remplissage, 2 pour Consultation et 3 pour Sortir !\")\n",
    "        continue\n",
    "    if question == '1':\n",
    "        if file_person.exists():\n",
    "            dico = get_dico_from_json(file_person)\n",
    "            dico.update(dico_person)\n",
    "            save_in_jsonFile(dico, file_person)\n",
    "        elif question =='2':\n",
    "            person_find = input(\"Saisissez le nom de la personne que vous cherchez !\")\n",
    "            if person_find not in dico:\n",
    "                print(\"Le nom que vous avez saisi n'existe pas dans le dictionnaire\")\n",
    "            else:\n",
    "                dico = get_dico_from_json(file_person)\n",
    "                pers = find_person_by_name(dico, person_find)\n",
    "                print(pers)\n",
    "        else:\n",
    "            break"
   ]
  },
  {
   "cell_type": "code",
   "execution_count": null,
   "metadata": {},
   "outputs": [],
   "source": []
  }
 ],
 "metadata": {
  "interpreter": {
   "hash": "f79bd49fc291e1527478f58d7e0a3d5b810629176e7f6615ed9f512d54bd7dde"
  },
  "kernelspec": {
   "display_name": "Python 3",
   "language": "python",
   "name": "python3"
  },
  "language_info": {
   "codemirror_mode": {
    "name": "ipython",
    "version": 3
   },
   "file_extension": ".py",
   "mimetype": "text/x-python",
   "name": "python",
   "nbconvert_exporter": "python",
   "pygments_lexer": "ipython3",
   "version": "3.8.8"
  }
 },
 "nbformat": 4,
 "nbformat_minor": 4
}